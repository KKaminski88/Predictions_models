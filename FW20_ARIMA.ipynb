{
 "cells": [
  {
   "cell_type": "code",
   "execution_count": 1,
   "id": "6015adcf",
   "metadata": {},
   "outputs": [
    {
     "data": {
      "text/html": [
       "<style>.container { width:90% !important; }</style>"
      ],
      "text/plain": [
       "<IPython.core.display.HTML object>"
      ]
     },
     "metadata": {},
     "output_type": "display_data"
    }
   ],
   "source": [
    "import numpy as np\n",
    "import pandas as pd\n",
    "import matplotlib.pyplot as plt\n",
    "pd.set_option('display.max_rows', 20)\n",
    "from IPython.display import display, HTML;  display(HTML('<style>.container { width:90% !important; }</style>'))"
   ]
  },
  {
   "cell_type": "code",
   "execution_count": 2,
   "id": "150c1981",
   "metadata": {},
   "outputs": [
    {
     "data": {
      "text/html": [
       "<div>\n",
       "<style scoped>\n",
       "    .dataframe tbody tr th:only-of-type {\n",
       "        vertical-align: middle;\n",
       "    }\n",
       "\n",
       "    .dataframe tbody tr th {\n",
       "        vertical-align: top;\n",
       "    }\n",
       "\n",
       "    .dataframe thead th {\n",
       "        text-align: right;\n",
       "    }\n",
       "</style>\n",
       "<table border=\"1\" class=\"dataframe\">\n",
       "  <thead>\n",
       "    <tr style=\"text-align: right;\">\n",
       "      <th></th>\n",
       "      <th>Data</th>\n",
       "      <th>Otwarcie</th>\n",
       "      <th>Najwyzszy</th>\n",
       "      <th>Najnizszy</th>\n",
       "      <th>Zamkniecie</th>\n",
       "      <th>Wolumen</th>\n",
       "      <th>LOP</th>\n",
       "    </tr>\n",
       "  </thead>\n",
       "  <tbody>\n",
       "    <tr>\n",
       "      <th>0</th>\n",
       "      <td>1998-01-20</td>\n",
       "      <td>1440</td>\n",
       "      <td>1440</td>\n",
       "      <td>1440</td>\n",
       "      <td>1440</td>\n",
       "      <td>4</td>\n",
       "      <td>12.0</td>\n",
       "    </tr>\n",
       "    <tr>\n",
       "      <th>1</th>\n",
       "      <td>1998-01-22</td>\n",
       "      <td>1370</td>\n",
       "      <td>1370</td>\n",
       "      <td>1370</td>\n",
       "      <td>1370</td>\n",
       "      <td>9</td>\n",
       "      <td>21.0</td>\n",
       "    </tr>\n",
       "    <tr>\n",
       "      <th>2</th>\n",
       "      <td>1998-01-23</td>\n",
       "      <td>1370</td>\n",
       "      <td>1370</td>\n",
       "      <td>1370</td>\n",
       "      <td>1370</td>\n",
       "      <td>2</td>\n",
       "      <td>22.0</td>\n",
       "    </tr>\n",
       "    <tr>\n",
       "      <th>3</th>\n",
       "      <td>1998-01-28</td>\n",
       "      <td>1382</td>\n",
       "      <td>1390</td>\n",
       "      <td>1382</td>\n",
       "      <td>1389</td>\n",
       "      <td>8</td>\n",
       "      <td>9.0</td>\n",
       "    </tr>\n",
       "    <tr>\n",
       "      <th>4</th>\n",
       "      <td>1998-01-29</td>\n",
       "      <td>1417</td>\n",
       "      <td>1417</td>\n",
       "      <td>1412</td>\n",
       "      <td>1412</td>\n",
       "      <td>4</td>\n",
       "      <td>21.0</td>\n",
       "    </tr>\n",
       "    <tr>\n",
       "      <th>...</th>\n",
       "      <td>...</td>\n",
       "      <td>...</td>\n",
       "      <td>...</td>\n",
       "      <td>...</td>\n",
       "      <td>...</td>\n",
       "      <td>...</td>\n",
       "      <td>...</td>\n",
       "    </tr>\n",
       "    <tr>\n",
       "      <th>6451</th>\n",
       "      <td>2023-10-27</td>\n",
       "      <td>2149</td>\n",
       "      <td>2151</td>\n",
       "      <td>2114</td>\n",
       "      <td>2118</td>\n",
       "      <td>33195</td>\n",
       "      <td>62420.0</td>\n",
       "    </tr>\n",
       "    <tr>\n",
       "      <th>6452</th>\n",
       "      <td>2023-10-30</td>\n",
       "      <td>2124</td>\n",
       "      <td>2154</td>\n",
       "      <td>2124</td>\n",
       "      <td>2141</td>\n",
       "      <td>34097</td>\n",
       "      <td>62234.0</td>\n",
       "    </tr>\n",
       "    <tr>\n",
       "      <th>6453</th>\n",
       "      <td>2023-10-31</td>\n",
       "      <td>2147</td>\n",
       "      <td>2184</td>\n",
       "      <td>2135</td>\n",
       "      <td>2170</td>\n",
       "      <td>32875</td>\n",
       "      <td>63791.0</td>\n",
       "    </tr>\n",
       "    <tr>\n",
       "      <th>6454</th>\n",
       "      <td>2023-11-02</td>\n",
       "      <td>2195</td>\n",
       "      <td>2203</td>\n",
       "      <td>2153</td>\n",
       "      <td>2172</td>\n",
       "      <td>40112</td>\n",
       "      <td>65803.0</td>\n",
       "    </tr>\n",
       "    <tr>\n",
       "      <th>6455</th>\n",
       "      <td>2023-11-03</td>\n",
       "      <td>2174</td>\n",
       "      <td>2200</td>\n",
       "      <td>2165</td>\n",
       "      <td>2170</td>\n",
       "      <td>25066</td>\n",
       "      <td>66207.0</td>\n",
       "    </tr>\n",
       "  </tbody>\n",
       "</table>\n",
       "<p>6456 rows × 7 columns</p>\n",
       "</div>"
      ],
      "text/plain": [
       "            Data  Otwarcie  Najwyzszy  Najnizszy  Zamkniecie  Wolumen      LOP\n",
       "0     1998-01-20      1440       1440       1440        1440        4     12.0\n",
       "1     1998-01-22      1370       1370       1370        1370        9     21.0\n",
       "2     1998-01-23      1370       1370       1370        1370        2     22.0\n",
       "3     1998-01-28      1382       1390       1382        1389        8      9.0\n",
       "4     1998-01-29      1417       1417       1412        1412        4     21.0\n",
       "...          ...       ...        ...        ...         ...      ...      ...\n",
       "6451  2023-10-27      2149       2151       2114        2118    33195  62420.0\n",
       "6452  2023-10-30      2124       2154       2124        2141    34097  62234.0\n",
       "6453  2023-10-31      2147       2184       2135        2170    32875  63791.0\n",
       "6454  2023-11-02      2195       2203       2153        2172    40112  65803.0\n",
       "6455  2023-11-03      2174       2200       2165        2170    25066  66207.0\n",
       "\n",
       "[6456 rows x 7 columns]"
      ]
     },
     "execution_count": 2,
     "metadata": {},
     "output_type": "execute_result"
    }
   ],
   "source": [
    "df = pd.read_csv(\"fw20_d.csv\")\n",
    "df"
   ]
  },
  {
   "cell_type": "code",
   "execution_count": 3,
   "id": "48ed7acf",
   "metadata": {},
   "outputs": [
    {
     "data": {
      "text/html": [
       "<div>\n",
       "<style scoped>\n",
       "    .dataframe tbody tr th:only-of-type {\n",
       "        vertical-align: middle;\n",
       "    }\n",
       "\n",
       "    .dataframe tbody tr th {\n",
       "        vertical-align: top;\n",
       "    }\n",
       "\n",
       "    .dataframe thead th {\n",
       "        text-align: right;\n",
       "    }\n",
       "</style>\n",
       "<table border=\"1\" class=\"dataframe\">\n",
       "  <thead>\n",
       "    <tr style=\"text-align: right;\">\n",
       "      <th></th>\n",
       "      <th>Data</th>\n",
       "      <th>Otwarcie</th>\n",
       "      <th>Najwyzszy</th>\n",
       "      <th>Najnizszy</th>\n",
       "      <th>Zamkniecie</th>\n",
       "      <th>Wolumen</th>\n",
       "      <th>LOP</th>\n",
       "    </tr>\n",
       "  </thead>\n",
       "  <tbody>\n",
       "    <tr>\n",
       "      <th>0</th>\n",
       "      <td>1998-01-20</td>\n",
       "      <td>1440</td>\n",
       "      <td>1440</td>\n",
       "      <td>1440</td>\n",
       "      <td>1440</td>\n",
       "      <td>4</td>\n",
       "      <td>12.0</td>\n",
       "    </tr>\n",
       "    <tr>\n",
       "      <th>1</th>\n",
       "      <td>1998-01-22</td>\n",
       "      <td>1370</td>\n",
       "      <td>1370</td>\n",
       "      <td>1370</td>\n",
       "      <td>1370</td>\n",
       "      <td>9</td>\n",
       "      <td>21.0</td>\n",
       "    </tr>\n",
       "    <tr>\n",
       "      <th>2</th>\n",
       "      <td>1998-01-23</td>\n",
       "      <td>1370</td>\n",
       "      <td>1370</td>\n",
       "      <td>1370</td>\n",
       "      <td>1370</td>\n",
       "      <td>2</td>\n",
       "      <td>22.0</td>\n",
       "    </tr>\n",
       "    <tr>\n",
       "      <th>3</th>\n",
       "      <td>1998-01-28</td>\n",
       "      <td>1382</td>\n",
       "      <td>1390</td>\n",
       "      <td>1382</td>\n",
       "      <td>1389</td>\n",
       "      <td>8</td>\n",
       "      <td>9.0</td>\n",
       "    </tr>\n",
       "    <tr>\n",
       "      <th>4</th>\n",
       "      <td>1998-01-29</td>\n",
       "      <td>1417</td>\n",
       "      <td>1417</td>\n",
       "      <td>1412</td>\n",
       "      <td>1412</td>\n",
       "      <td>4</td>\n",
       "      <td>21.0</td>\n",
       "    </tr>\n",
       "    <tr>\n",
       "      <th>...</th>\n",
       "      <td>...</td>\n",
       "      <td>...</td>\n",
       "      <td>...</td>\n",
       "      <td>...</td>\n",
       "      <td>...</td>\n",
       "      <td>...</td>\n",
       "      <td>...</td>\n",
       "    </tr>\n",
       "    <tr>\n",
       "      <th>6450</th>\n",
       "      <td>2023-10-26</td>\n",
       "      <td>2090</td>\n",
       "      <td>2141</td>\n",
       "      <td>2076</td>\n",
       "      <td>2141</td>\n",
       "      <td>46725</td>\n",
       "      <td>62151.0</td>\n",
       "    </tr>\n",
       "    <tr>\n",
       "      <th>6451</th>\n",
       "      <td>2023-10-27</td>\n",
       "      <td>2149</td>\n",
       "      <td>2151</td>\n",
       "      <td>2114</td>\n",
       "      <td>2118</td>\n",
       "      <td>33195</td>\n",
       "      <td>62420.0</td>\n",
       "    </tr>\n",
       "    <tr>\n",
       "      <th>6452</th>\n",
       "      <td>2023-10-30</td>\n",
       "      <td>2124</td>\n",
       "      <td>2154</td>\n",
       "      <td>2124</td>\n",
       "      <td>2141</td>\n",
       "      <td>34097</td>\n",
       "      <td>62234.0</td>\n",
       "    </tr>\n",
       "    <tr>\n",
       "      <th>6453</th>\n",
       "      <td>2023-10-31</td>\n",
       "      <td>2147</td>\n",
       "      <td>2184</td>\n",
       "      <td>2135</td>\n",
       "      <td>2170</td>\n",
       "      <td>32875</td>\n",
       "      <td>63791.0</td>\n",
       "    </tr>\n",
       "    <tr>\n",
       "      <th>6454</th>\n",
       "      <td>2023-11-02</td>\n",
       "      <td>2195</td>\n",
       "      <td>2203</td>\n",
       "      <td>2153</td>\n",
       "      <td>2172</td>\n",
       "      <td>40112</td>\n",
       "      <td>65803.0</td>\n",
       "    </tr>\n",
       "  </tbody>\n",
       "</table>\n",
       "<p>6455 rows × 7 columns</p>\n",
       "</div>"
      ],
      "text/plain": [
       "            Data  Otwarcie  Najwyzszy  Najnizszy  Zamkniecie  Wolumen      LOP\n",
       "0     1998-01-20      1440       1440       1440        1440        4     12.0\n",
       "1     1998-01-22      1370       1370       1370        1370        9     21.0\n",
       "2     1998-01-23      1370       1370       1370        1370        2     22.0\n",
       "3     1998-01-28      1382       1390       1382        1389        8      9.0\n",
       "4     1998-01-29      1417       1417       1412        1412        4     21.0\n",
       "...          ...       ...        ...        ...         ...      ...      ...\n",
       "6450  2023-10-26      2090       2141       2076        2141    46725  62151.0\n",
       "6451  2023-10-27      2149       2151       2114        2118    33195  62420.0\n",
       "6452  2023-10-30      2124       2154       2124        2141    34097  62234.0\n",
       "6453  2023-10-31      2147       2184       2135        2170    32875  63791.0\n",
       "6454  2023-11-02      2195       2203       2153        2172    40112  65803.0\n",
       "\n",
       "[6455 rows x 7 columns]"
      ]
     },
     "execution_count": 3,
     "metadata": {},
     "output_type": "execute_result"
    }
   ],
   "source": [
    "df = df[:-1]\n",
    "df"
   ]
  },
  {
   "cell_type": "code",
   "execution_count": 4,
   "id": "af0ab82c",
   "metadata": {},
   "outputs": [],
   "source": [
    "df = df[-600:]\n",
    "df.reset_index(inplace=True)"
   ]
  },
  {
   "cell_type": "code",
   "execution_count": 5,
   "id": "540607b0",
   "metadata": {},
   "outputs": [
    {
     "data": {
      "text/html": [
       "<div>\n",
       "<style scoped>\n",
       "    .dataframe tbody tr th:only-of-type {\n",
       "        vertical-align: middle;\n",
       "    }\n",
       "\n",
       "    .dataframe tbody tr th {\n",
       "        vertical-align: top;\n",
       "    }\n",
       "\n",
       "    .dataframe thead th {\n",
       "        text-align: right;\n",
       "    }\n",
       "</style>\n",
       "<table border=\"1\" class=\"dataframe\">\n",
       "  <thead>\n",
       "    <tr style=\"text-align: right;\">\n",
       "      <th></th>\n",
       "      <th>index</th>\n",
       "      <th>Data</th>\n",
       "      <th>Otwarcie</th>\n",
       "      <th>Najwyzszy</th>\n",
       "      <th>Najnizszy</th>\n",
       "      <th>Zamkniecie</th>\n",
       "      <th>Wolumen</th>\n",
       "      <th>LOP</th>\n",
       "    </tr>\n",
       "  </thead>\n",
       "  <tbody>\n",
       "    <tr>\n",
       "      <th>0</th>\n",
       "      <td>5855</td>\n",
       "      <td>2021-06-17</td>\n",
       "      <td>2216</td>\n",
       "      <td>2220</td>\n",
       "      <td>2204</td>\n",
       "      <td>2212</td>\n",
       "      <td>26122</td>\n",
       "      <td>48827.0</td>\n",
       "    </tr>\n",
       "    <tr>\n",
       "      <th>1</th>\n",
       "      <td>5856</td>\n",
       "      <td>2021-06-18</td>\n",
       "      <td>2184</td>\n",
       "      <td>2192</td>\n",
       "      <td>2173</td>\n",
       "      <td>2187</td>\n",
       "      <td>29194</td>\n",
       "      <td>42280.0</td>\n",
       "    </tr>\n",
       "    <tr>\n",
       "      <th>2</th>\n",
       "      <td>5857</td>\n",
       "      <td>2021-06-21</td>\n",
       "      <td>2169</td>\n",
       "      <td>2194</td>\n",
       "      <td>2158</td>\n",
       "      <td>2192</td>\n",
       "      <td>18119</td>\n",
       "      <td>32962.0</td>\n",
       "    </tr>\n",
       "    <tr>\n",
       "      <th>3</th>\n",
       "      <td>5858</td>\n",
       "      <td>2021-06-22</td>\n",
       "      <td>2193</td>\n",
       "      <td>2206</td>\n",
       "      <td>2174</td>\n",
       "      <td>2192</td>\n",
       "      <td>15236</td>\n",
       "      <td>33473.0</td>\n",
       "    </tr>\n",
       "    <tr>\n",
       "      <th>4</th>\n",
       "      <td>5859</td>\n",
       "      <td>2021-06-23</td>\n",
       "      <td>2201</td>\n",
       "      <td>2210</td>\n",
       "      <td>2186</td>\n",
       "      <td>2201</td>\n",
       "      <td>13049</td>\n",
       "      <td>33921.0</td>\n",
       "    </tr>\n",
       "    <tr>\n",
       "      <th>...</th>\n",
       "      <td>...</td>\n",
       "      <td>...</td>\n",
       "      <td>...</td>\n",
       "      <td>...</td>\n",
       "      <td>...</td>\n",
       "      <td>...</td>\n",
       "      <td>...</td>\n",
       "      <td>...</td>\n",
       "    </tr>\n",
       "    <tr>\n",
       "      <th>595</th>\n",
       "      <td>6450</td>\n",
       "      <td>2023-10-26</td>\n",
       "      <td>2090</td>\n",
       "      <td>2141</td>\n",
       "      <td>2076</td>\n",
       "      <td>2141</td>\n",
       "      <td>46725</td>\n",
       "      <td>62151.0</td>\n",
       "    </tr>\n",
       "    <tr>\n",
       "      <th>596</th>\n",
       "      <td>6451</td>\n",
       "      <td>2023-10-27</td>\n",
       "      <td>2149</td>\n",
       "      <td>2151</td>\n",
       "      <td>2114</td>\n",
       "      <td>2118</td>\n",
       "      <td>33195</td>\n",
       "      <td>62420.0</td>\n",
       "    </tr>\n",
       "    <tr>\n",
       "      <th>597</th>\n",
       "      <td>6452</td>\n",
       "      <td>2023-10-30</td>\n",
       "      <td>2124</td>\n",
       "      <td>2154</td>\n",
       "      <td>2124</td>\n",
       "      <td>2141</td>\n",
       "      <td>34097</td>\n",
       "      <td>62234.0</td>\n",
       "    </tr>\n",
       "    <tr>\n",
       "      <th>598</th>\n",
       "      <td>6453</td>\n",
       "      <td>2023-10-31</td>\n",
       "      <td>2147</td>\n",
       "      <td>2184</td>\n",
       "      <td>2135</td>\n",
       "      <td>2170</td>\n",
       "      <td>32875</td>\n",
       "      <td>63791.0</td>\n",
       "    </tr>\n",
       "    <tr>\n",
       "      <th>599</th>\n",
       "      <td>6454</td>\n",
       "      <td>2023-11-02</td>\n",
       "      <td>2195</td>\n",
       "      <td>2203</td>\n",
       "      <td>2153</td>\n",
       "      <td>2172</td>\n",
       "      <td>40112</td>\n",
       "      <td>65803.0</td>\n",
       "    </tr>\n",
       "  </tbody>\n",
       "</table>\n",
       "<p>600 rows × 8 columns</p>\n",
       "</div>"
      ],
      "text/plain": [
       "     index        Data  Otwarcie  Najwyzszy  Najnizszy  Zamkniecie  Wolumen  \\\n",
       "0     5855  2021-06-17      2216       2220       2204        2212    26122   \n",
       "1     5856  2021-06-18      2184       2192       2173        2187    29194   \n",
       "2     5857  2021-06-21      2169       2194       2158        2192    18119   \n",
       "3     5858  2021-06-22      2193       2206       2174        2192    15236   \n",
       "4     5859  2021-06-23      2201       2210       2186        2201    13049   \n",
       "..     ...         ...       ...        ...        ...         ...      ...   \n",
       "595   6450  2023-10-26      2090       2141       2076        2141    46725   \n",
       "596   6451  2023-10-27      2149       2151       2114        2118    33195   \n",
       "597   6452  2023-10-30      2124       2154       2124        2141    34097   \n",
       "598   6453  2023-10-31      2147       2184       2135        2170    32875   \n",
       "599   6454  2023-11-02      2195       2203       2153        2172    40112   \n",
       "\n",
       "         LOP  \n",
       "0    48827.0  \n",
       "1    42280.0  \n",
       "2    32962.0  \n",
       "3    33473.0  \n",
       "4    33921.0  \n",
       "..       ...  \n",
       "595  62151.0  \n",
       "596  62420.0  \n",
       "597  62234.0  \n",
       "598  63791.0  \n",
       "599  65803.0  \n",
       "\n",
       "[600 rows x 8 columns]"
      ]
     },
     "execution_count": 5,
     "metadata": {},
     "output_type": "execute_result"
    }
   ],
   "source": [
    "df"
   ]
  },
  {
   "cell_type": "markdown",
   "id": "b8084e9d",
   "metadata": {},
   "source": [
    "### Setting train and test group"
   ]
  },
  {
   "cell_type": "code",
   "execution_count": 6,
   "id": "f713ef27",
   "metadata": {},
   "outputs": [],
   "source": [
    "train =int(len(df.Zamkniecie)*0.8)"
   ]
  },
  {
   "cell_type": "code",
   "execution_count": 7,
   "id": "6dbebda3",
   "metadata": {},
   "outputs": [
    {
     "data": {
      "text/plain": [
       "480"
      ]
     },
     "execution_count": 7,
     "metadata": {},
     "output_type": "execute_result"
    }
   ],
   "source": [
    "train"
   ]
  },
  {
   "cell_type": "code",
   "execution_count": 8,
   "id": "fe27488f",
   "metadata": {},
   "outputs": [],
   "source": [
    "# df.Zamkniecie - is Series with Close values\n",
    "Set = df.Zamkniecie\n",
    "trainSet = Set[:train]\n",
    "testSet = Set[train:]"
   ]
  },
  {
   "cell_type": "code",
   "execution_count": 9,
   "id": "db9a3aca",
   "metadata": {},
   "outputs": [
    {
     "data": {
      "text/plain": [
       "0      2212\n",
       "1      2187\n",
       "2      2192\n",
       "3      2192\n",
       "4      2201\n",
       "       ... \n",
       "475    1940\n",
       "476    1945\n",
       "477    1933\n",
       "478    1959\n",
       "479    1957\n",
       "Name: Zamkniecie, Length: 480, dtype: int64"
      ]
     },
     "execution_count": 9,
     "metadata": {},
     "output_type": "execute_result"
    }
   ],
   "source": [
    "trainSet"
   ]
  },
  {
   "cell_type": "code",
   "execution_count": 10,
   "id": "a87a8829",
   "metadata": {
    "scrolled": false
   },
   "outputs": [
    {
     "data": {
      "text/plain": [
       "480    1963\n",
       "481    1948\n",
       "482    1958\n",
       "483    2004\n",
       "484    2019\n",
       "       ... \n",
       "595    2141\n",
       "596    2118\n",
       "597    2141\n",
       "598    2170\n",
       "599    2172\n",
       "Name: Zamkniecie, Length: 120, dtype: int64"
      ]
     },
     "execution_count": 10,
     "metadata": {},
     "output_type": "execute_result"
    }
   ],
   "source": [
    "testSet"
   ]
  },
  {
   "cell_type": "markdown",
   "id": "a8ee338e",
   "metadata": {},
   "source": [
    "### Is it stationary data?"
   ]
  },
  {
   "cell_type": "code",
   "execution_count": 11,
   "id": "34713da0",
   "metadata": {},
   "outputs": [
    {
     "data": {
      "image/png": "[encoded data removed]",
      "text/plain": [
       "<Figure size 640x480 with 1 Axes>"
      ]
     },
     "metadata": {},
     "output_type": "display_data"
    }
   ],
   "source": [
    "trainSet.plot(label = \"Ceny zamknięcia\")\n",
    "plt.legend()\n",
    "plt.show()"
   ]
  },
  {
   "cell_type": "code",
   "execution_count": 12,
   "id": "8c42aa73",
   "metadata": {},
   "outputs": [],
   "source": [
    "from statsmodels.tsa.stattools import adfuller"
   ]
  },
  {
   "cell_type": "code",
   "execution_count": 13,
   "id": "951b1e12",
   "metadata": {},
   "outputs": [
    {
     "name": "stdout",
     "output_type": "stream",
     "text": [
      "ADF Statistic: -1.4838714265793025\n",
      "p-value: 0.5414742924920093\n"
     ]
    }
   ],
   "source": [
    "result = adfuller(trainSet)\n",
    "print('ADF Statistic:', result[0])\n",
    "print('p-value:', result[1])"
   ]
  },
  {
   "cell_type": "markdown",
   "id": "9be850d8",
   "metadata": {},
   "source": [
    "### Data transform"
   ]
  },
  {
   "cell_type": "code",
   "execution_count": 14,
   "id": "ddf75950",
   "metadata": {},
   "outputs": [
    {
     "name": "stdout",
     "output_type": "stream",
     "text": [
      "ADF Statistic: -12.606373574507654\n",
      "p-value: 1.6923639547361233e-23\n"
     ]
    }
   ],
   "source": [
    "trainSet_diff = trainSet.diff().dropna()\n",
    "\n",
    "result = adfuller(trainSet_diff)\n",
    "print('ADF Statistic:', result[0])\n",
    "print('p-value:', result[1])"
   ]
  },
  {
   "cell_type": "code",
   "execution_count": 15,
   "id": "f95be58f",
   "metadata": {},
   "outputs": [
    {
     "data": {
      "image/png": "[encoded data removed]",
      "text/plain": [
       "<Figure size 640x480 with 1 Axes>"
      ]
     },
     "metadata": {},
     "output_type": "display_data"
    }
   ],
   "source": [
    "trainSet_diff.plot()\n",
    "plt.show()"
   ]
  },
  {
   "cell_type": "markdown",
   "id": "e55da9b5",
   "metadata": {},
   "source": [
    "### Auto correlation and partial auto correlation"
   ]
  },
  {
   "cell_type": "code",
   "execution_count": 16,
   "id": "b7512664",
   "metadata": {},
   "outputs": [],
   "source": [
    "from statsmodels.graphics.tsaplots import plot_acf, plot_pacf"
   ]
  },
  {
   "cell_type": "code",
   "execution_count": 17,
   "id": "d234cbfe",
   "metadata": {},
   "outputs": [],
   "source": [
    "import warnings\n",
    "warnings.filterwarnings('ignore')"
   ]
  },
  {
   "cell_type": "code",
   "execution_count": 18,
   "id": "6ed0ab11",
   "metadata": {},
   "outputs": [
    {
     "data": {
      "image/png": "[encoded data removed]",
      "text/plain": [
       "<Figure size 640x480 with 1 Axes>"
      ]
     },
     "metadata": {},
     "output_type": "display_data"
    },
    {
     "data": {
      "image/png": "[encoded data removed]",
      "text/plain": [
       "<Figure size 640x480 with 1 Axes>"
      ]
     },
     "metadata": {},
     "output_type": "display_data"
    }
   ],
   "source": [
    "plot_acf(trainSet_diff)\n",
    "plt.show()\n",
    "\n",
    "plot_pacf(trainSet_diff)\n",
    "plt.show()"
   ]
  },
  {
   "cell_type": "code",
   "execution_count": 19,
   "id": "d0ef109b",
   "metadata": {},
   "outputs": [],
   "source": [
    "p = 15\n",
    "d = 1\n",
    "q = 15"
   ]
  },
  {
   "cell_type": "markdown",
   "id": "902bf7a5",
   "metadata": {},
   "source": [
    "### Prediction"
   ]
  },
  {
   "cell_type": "code",
   "execution_count": 20,
   "id": "375d13a4",
   "metadata": {},
   "outputs": [],
   "source": [
    "from statsmodels.tsa.arima.model import ARIMA"
   ]
  },
  {
   "cell_type": "code",
   "execution_count": 21,
   "id": "bcb1498d",
   "metadata": {},
   "outputs": [],
   "source": [
    "model = ARIMA(trainSet, order=(p, d, q))\n",
    "model_fit = model.fit()"
   ]
  },
  {
   "cell_type": "code",
   "execution_count": 22,
   "id": "eeb2f913",
   "metadata": {},
   "outputs": [],
   "source": [
    "predictions = model_fit.predict(train,len(Set)-1)"
   ]
  },
  {
   "cell_type": "code",
   "execution_count": 23,
   "id": "15519666",
   "metadata": {},
   "outputs": [
    {
     "data": {
      "image/png": "[encoded data removed]",
      "text/plain": [
       "<Figure size 640x480 with 1 Axes>"
      ]
     },
     "metadata": {},
     "output_type": "display_data"
    }
   ],
   "source": [
    "Set.plot(label='Close price')\n",
    "predictions.plot(label='Model')\n",
    "plt.legend();"
   ]
  },
  {
   "cell_type": "markdown",
   "id": "f8bfa228",
   "metadata": {},
   "source": [
    "### Results"
   ]
  },
  {
   "cell_type": "code",
   "execution_count": 24,
   "id": "cf805699",
   "metadata": {},
   "outputs": [],
   "source": [
    "from sklearn.metrics import mean_squared_error"
   ]
  },
  {
   "cell_type": "code",
   "execution_count": 25,
   "id": "85ec8c86",
   "metadata": {},
   "outputs": [],
   "source": [
    "actual_values = testSet"
   ]
  },
  {
   "cell_type": "code",
   "execution_count": 26,
   "id": "81d61499",
   "metadata": {},
   "outputs": [
    {
     "data": {
      "text/plain": [
       "87.01626310470735"
      ]
     },
     "execution_count": 26,
     "metadata": {},
     "output_type": "execute_result"
    }
   ],
   "source": [
    "mean_squared_error(actual_values,predictions,squared=False)"
   ]
  },
  {
   "cell_type": "raw",
   "id": "d53d8749",
   "metadata": {},
   "source": []
  }
 ],
 "metadata": {
  "kernelspec": {
   "display_name": "Python 3 (ipykernel)",
   "language": "python",
   "name": "python3"
  },
  "language_info": {
   "codemirror_mode": {
    "name": "ipython",
    "version": 3
   },
   "file_extension": ".py",
   "mimetype": "text/x-python",
   "name": "python",
   "nbconvert_exporter": "python",
   "pygments_lexer": "ipython3",
   "version": "3.11.5"
  }
 },
 "nbformat": 4,
 "nbformat_minor": 5
}
